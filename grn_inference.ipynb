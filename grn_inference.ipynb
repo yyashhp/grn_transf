{
 "cells": [
  {
   "cell_type": "code",
   "execution_count": 2,
   "metadata": {},
   "outputs": [],
   "source": [
    "from pathlib import Path\n",
    "import torch\n",
    "import torch.nn as nn\n",
    "from config import get_config, get_weights_file_path\n",
    "from train import get_model, get_ds, run_validation"
   ]
  },
  {
   "cell_type": "code",
   "execution_count": 3,
   "metadata": {},
   "outputs": [
    {
     "name": "stdout",
     "output_type": "stream",
     "text": [
      "Using device: cpu\n",
      "Max length of source sentence: 309\n",
      "Max length of target sequence: 274\n",
      "<class 'str'>\n"
     ]
    },
    {
     "ename": "FileNotFoundError",
     "evalue": "[Errno 2] No such file or directory: 'og_og_weights/tmodel_19.pt'",
     "output_type": "error",
     "traceback": [
      "\u001b[0;31m---------------------------------------------------------------------------\u001b[0m",
      "\u001b[0;31mFileNotFoundError\u001b[0m                         Traceback (most recent call last)",
      "Cell \u001b[0;32mIn[3], line 12\u001b[0m\n\u001b[1;32m     10\u001b[0m model_filename \u001b[38;5;241m=\u001b[39m \u001b[38;5;124m'\u001b[39m\u001b[38;5;124mog_\u001b[39m\u001b[38;5;124m'\u001b[39m \u001b[38;5;241m+\u001b[39m get_weights_file_path(config, \u001b[38;5;124mf\u001b[39m\u001b[38;5;124m\"\u001b[39m\u001b[38;5;124m19\u001b[39m\u001b[38;5;124m\"\u001b[39m)\n\u001b[1;32m     11\u001b[0m \u001b[38;5;28mprint\u001b[39m(\u001b[38;5;28mtype\u001b[39m(model_filename))\n\u001b[0;32m---> 12\u001b[0m state \u001b[38;5;241m=\u001b[39m \u001b[43mtorch\u001b[49m\u001b[38;5;241;43m.\u001b[39;49m\u001b[43mload\u001b[49m\u001b[43m(\u001b[49m\u001b[43mmodel_filename\u001b[49m\u001b[43m)\u001b[49m\n\u001b[1;32m     13\u001b[0m model\u001b[38;5;241m.\u001b[39mload_state_dict(state[\u001b[38;5;124m'\u001b[39m\u001b[38;5;124mmodel_state_dict\u001b[39m\u001b[38;5;124m'\u001b[39m])\n",
      "File \u001b[0;32m/opt/homebrew/lib/python3.11/site-packages/torch/serialization.py:986\u001b[0m, in \u001b[0;36mload\u001b[0;34m(f, map_location, pickle_module, weights_only, mmap, **pickle_load_args)\u001b[0m\n\u001b[1;32m    983\u001b[0m \u001b[38;5;28;01mif\u001b[39;00m \u001b[38;5;124m'\u001b[39m\u001b[38;5;124mencoding\u001b[39m\u001b[38;5;124m'\u001b[39m \u001b[38;5;129;01mnot\u001b[39;00m \u001b[38;5;129;01min\u001b[39;00m pickle_load_args\u001b[38;5;241m.\u001b[39mkeys():\n\u001b[1;32m    984\u001b[0m     pickle_load_args[\u001b[38;5;124m'\u001b[39m\u001b[38;5;124mencoding\u001b[39m\u001b[38;5;124m'\u001b[39m] \u001b[38;5;241m=\u001b[39m \u001b[38;5;124m'\u001b[39m\u001b[38;5;124mutf-8\u001b[39m\u001b[38;5;124m'\u001b[39m\n\u001b[0;32m--> 986\u001b[0m \u001b[38;5;28;01mwith\u001b[39;00m \u001b[43m_open_file_like\u001b[49m\u001b[43m(\u001b[49m\u001b[43mf\u001b[49m\u001b[43m,\u001b[49m\u001b[43m \u001b[49m\u001b[38;5;124;43m'\u001b[39;49m\u001b[38;5;124;43mrb\u001b[39;49m\u001b[38;5;124;43m'\u001b[39;49m\u001b[43m)\u001b[49m \u001b[38;5;28;01mas\u001b[39;00m opened_file:\n\u001b[1;32m    987\u001b[0m     \u001b[38;5;28;01mif\u001b[39;00m _is_zipfile(opened_file):\n\u001b[1;32m    988\u001b[0m         \u001b[38;5;66;03m# The zipfile reader is going to advance the current file position.\u001b[39;00m\n\u001b[1;32m    989\u001b[0m         \u001b[38;5;66;03m# If we want to actually tail call to torch.jit.load, we need to\u001b[39;00m\n\u001b[1;32m    990\u001b[0m         \u001b[38;5;66;03m# reset back to the original position.\u001b[39;00m\n\u001b[1;32m    991\u001b[0m         orig_position \u001b[38;5;241m=\u001b[39m opened_file\u001b[38;5;241m.\u001b[39mtell()\n",
      "File \u001b[0;32m/opt/homebrew/lib/python3.11/site-packages/torch/serialization.py:435\u001b[0m, in \u001b[0;36m_open_file_like\u001b[0;34m(name_or_buffer, mode)\u001b[0m\n\u001b[1;32m    433\u001b[0m \u001b[38;5;28;01mdef\u001b[39;00m \u001b[38;5;21m_open_file_like\u001b[39m(name_or_buffer, mode):\n\u001b[1;32m    434\u001b[0m     \u001b[38;5;28;01mif\u001b[39;00m _is_path(name_or_buffer):\n\u001b[0;32m--> 435\u001b[0m         \u001b[38;5;28;01mreturn\u001b[39;00m \u001b[43m_open_file\u001b[49m\u001b[43m(\u001b[49m\u001b[43mname_or_buffer\u001b[49m\u001b[43m,\u001b[49m\u001b[43m \u001b[49m\u001b[43mmode\u001b[49m\u001b[43m)\u001b[49m\n\u001b[1;32m    436\u001b[0m     \u001b[38;5;28;01melse\u001b[39;00m:\n\u001b[1;32m    437\u001b[0m         \u001b[38;5;28;01mif\u001b[39;00m \u001b[38;5;124m'\u001b[39m\u001b[38;5;124mw\u001b[39m\u001b[38;5;124m'\u001b[39m \u001b[38;5;129;01min\u001b[39;00m mode:\n",
      "File \u001b[0;32m/opt/homebrew/lib/python3.11/site-packages/torch/serialization.py:416\u001b[0m, in \u001b[0;36m_open_file.__init__\u001b[0;34m(self, name, mode)\u001b[0m\n\u001b[1;32m    415\u001b[0m \u001b[38;5;28;01mdef\u001b[39;00m \u001b[38;5;21m__init__\u001b[39m(\u001b[38;5;28mself\u001b[39m, name, mode):\n\u001b[0;32m--> 416\u001b[0m     \u001b[38;5;28msuper\u001b[39m()\u001b[38;5;241m.\u001b[39m\u001b[38;5;21m__init__\u001b[39m(\u001b[38;5;28;43mopen\u001b[39;49m\u001b[43m(\u001b[49m\u001b[43mname\u001b[49m\u001b[43m,\u001b[49m\u001b[43m \u001b[49m\u001b[43mmode\u001b[49m\u001b[43m)\u001b[49m)\n",
      "\u001b[0;31mFileNotFoundError\u001b[0m: [Errno 2] No such file or directory: 'og_og_weights/tmodel_19.pt'"
     ]
    }
   ],
   "source": [
    "#Define Device\n",
    "device = torch.device(\"mps\" if torch.backends.mps.is_available() else \"cpu\")\n",
    "device = torch.device(\"cpu\")\n",
    "print(f\"Using device: {device}\")\n",
    "config = get_config()\n",
    "train_dataloader, val_dataloader, tokenizer_src, tokenizer_tgt = get_ds(config)\n",
    "model = get_model(config, tokenizer_src.get_vocab_size(), tokenizer_tgt.get_vocab_size())\n",
    "\n",
    "#Load weights\n",
    "model_filename = 'og_' + get_weights_file_path(config, f\"19\")\n",
    "print(type(model_filename))\n",
    "state = torch.load(model_filename)\n",
    "model.load_state_dict(state['model_state_dict'])\n"
   ]
  },
  {
   "cell_type": "code",
   "execution_count": 15,
   "metadata": {},
   "outputs": [
    {
     "name": "stdout",
     "output_type": "stream",
     "text": [
      "--------------------------------------------------------------------------------\n",
      "SOURCE: Anna returned to Petersburg early in the morning, and as she had wired that the carriage should be sent for her he might have expected her.\n",
      "TARGET: Anna era giunta a Pietroburgo la mattina presto, era stata mandata per lei la carrozza in seguito a un suo telegramma, perciò Aleksej Aleksandrovic doveva pur sapere del suo arrivo.\n",
      "PREDICTED: Anna era giunta a Pietroburgo , proprio come la mattina era stata mandata in vettura la vettura per lei , perciò Aleksej Aleksandrovic le avrebbe promesso di .\n",
      "--------------------------------------------------------------------------------\n",
      "SOURCE: You fix iron hoops up over the boat, and stretch a huge canvas over them, and fasten it down all round, from stem to stern, and it converts the boat into a sort of little house, and it is beautifully cosy, though a trifle stuffy; but there, everything has its drawbacks, as the man said when his mother-in-law died, and they came down upon him for the funeral expenses.\n",
      "TARGET: Si fissano degli archi di ferro sulla barca, e su di essi si stende una grossa tela, legandola intorno intorno, da prua a poppa: la barca si trasforma in una specie di bella e comoda casetta, sebbene un po’ afosa; ma, già, ogni cosa ha i suoi difetti, come disse quel tale quando gli morì la suocera e dovè pagare le spese dei funerali.\n",
      "PREDICTED: Si degli archi di ferro sulla barca , e su di essi si stende una grossa tela , intorno intorno intorno , da prua a poppa : in una specie di bella e comoda c ’ è il peso di una specie , ma molto più caro , sebbene un tale sembra un tale tormento , abbia lasciato le spese dei funerali , e le spese dei funerali .\n",
      "--------------------------------------------------------------------------------\n",
      "SOURCE: \"Yes: is it news to you?\"\n",
      "TARGET: — Sì, vi giunge nuovo?\n",
      "PREDICTED: — Sì , vi giunge nuovo ?\n",
      "--------------------------------------------------------------------------------\n",
      "SOURCE: In a word, I had nothing about me but a knife, a tobacco-pipe, and a little tobacco in a box.\n",
      "TARGET: Tutto molle d’acqua, non aveva panni per cambiarmi, nè alcuna cosa da mangiare o da bere per ristorarmi; non vedeva dinanzi a me altro che il pericolo di perir di fame o di essere divorato da qualche fiera.\n",
      "PREDICTED: In una parola , non aveva nulla da fare per cambiarmi , nè alcuna cosa da mangiare o da bere , e un poco di tabacco in verso le mie munizioni .\n",
      "--------------------------------------------------------------------------------\n",
      "SOURCE: Why, I thought it was the Director of the Department!' and he remembered that Anna had asked him to see the boy.\n",
      "TARGET: Io credevo fosse un capodivisione. Anna m’aveva appunto pregato di vederlo” ricordò.\n",
      "PREDICTED: Io penso , mi è un — pensava e ricordò che Anna avesse chiesto di andare a lui .\n",
      "--------------------------------------------------------------------------------\n",
      "SOURCE: Serezha grew thoughtful as he peered into the hall-porter's face, which he had studied in minute detail – especially the chin which hung beneath the grey whiskers and which no one saw but Serezha, who always looked up at him.\n",
      "TARGET: Serëza si fece pensieroso, guardando il viso del portiere, studiato fin nei minimi particolari, soprattutto il mento che pendeva fra le fedine canute, e che nessuno vedeva, tranne Serëza che non lo guardava altrimenti che di sotto in su.\n",
      "PREDICTED: Serëza si fece pensieroso , guardando il viso del portiere , studiato fin nei particolari , soprattutto il mento che pendeva fra le fedine , e che nessuno scopriva altrimenti che qualcuno scopriva in lui , tranne Serëza che non lo guardava altrimenti che lo guardava altrimenti .\n",
      "--------------------------------------------------------------------------------\n",
      "SOURCE: It is evening.\n",
      "TARGET: È di sera.\n",
      "PREDICTED: È sera .\n",
      "--------------------------------------------------------------------------------\n",
      "SOURCE: You intend to make yourself a complete stranger to me: to live under this roof only as Adele's governess; if ever I say a friendly word to you, if ever a friendly feeling inclines you again to me, you will say,--'That man had nearly made me his mistress: I must be ice and rock to him;' and ice and rock you will accordingly become.\"\n",
      "TARGET: Volete divenire per me un'estranea e vivere sotto questo tetto soltanto come l'istitutrice d'Adele. Se, caso mai vi rivolgessi una parola affettuosa, se un dolce sentimento vi spingesse verso di me, voi direste: \"Quell'uomo è stato sul punto di far di me la sua amante; bisogna che sia di ghiaccio o di pietra con lui\", e infatti sarete di ghiaccio e di pietra.\n",
      "PREDICTED: \" Non vi un uomo così grande , per farmi vivere sotto il tetto di questa istitutrice , e se vi dico una parola che avete detto che avete sempre accanto a voi una certa tenerezza , voi , voi mi avete detto che avete fatto il castello e che vi .\n",
      "--------------------------------------------------------------------------------\n",
      "SOURCE: \"She will fall: let her sit.\"\n",
      "TARGET: Fatela sedere, se no cadrà.\n",
      "PREDICTED: — Signora , se ne farete a sedere .\"\n",
      "--------------------------------------------------------------------------------\n",
      "SOURCE: She really appreciated it!\n",
      "TARGET: L’ha proprio apprezzato.\n",
      "PREDICTED: L ’ ha proprio apprezzato .\n"
     ]
    }
   ],
   "source": [
    "run_validation(model, val_dataloader, tokenizer_src, tokenizer_tgt, config['seq_len'], device, lambda msg: print(msg), 0, None, num_examples=10)"
   ]
  }
 ],
 "metadata": {
  "kernelspec": {
   "display_name": "Python 3",
   "language": "python",
   "name": "python3"
  },
  "language_info": {
   "codemirror_mode": {
    "name": "ipython",
    "version": 3
   },
   "file_extension": ".py",
   "mimetype": "text/x-python",
   "name": "python",
   "nbconvert_exporter": "python",
   "pygments_lexer": "ipython3",
   "version": "3.11.4"
  }
 },
 "nbformat": 4,
 "nbformat_minor": 2
}
